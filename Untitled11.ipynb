{
  "nbformat": 4,
  "nbformat_minor": 0,
  "metadata": {
    "colab": {
      "provenance": [],
      "authorship_tag": "ABX9TyPcrLKqKyYqSPCWNSoBHFkJ"
    },
    "kernelspec": {
      "name": "python3",
      "display_name": "Python 3"
    },
    "language_info": {
      "name": "python"
    }
  },
  "cells": [
    {
      "cell_type": "code",
      "execution_count": 2,
      "metadata": {
        "id": "Igieysm7-LMP"
      },
      "outputs": [],
      "source": [
        "import pandas as pd\n",
        "\n",
        "def department_highest_salary(employee: pd.DataFrame, department: pd.DataFrame) -> pd.DataFrame:\n",
        "    if employee.empty or department.empty:\n",
        "        return pd.DataFrame(columns=['Department','Employee', 'Salary'])\n",
        "\n",
        "    # Merge the employee and department DataFrames on 'departmentId' and 'id' columns\n",
        "    merged_df = employee.merge(department, left_on='departmentId', right_on='id', suffixes=('_employee', '_department'))\n",
        "\n",
        "    # Use groupby to group data by 'departmentId' and apply a lambda function to get employees with highest salary in each group\n",
        "    highest_salary_df = merged_df.groupby('departmentId').apply(lambda x: x[x['salary'] == x['salary'].max()])\n",
        "\n",
        "    # Drop the duplicate 'departmentId' column and reset the index\n",
        "    highest_salary_df = highest_salary_df.reset_index(drop=True)\n",
        "\n",
        "    # Select the required columns and return the result\n",
        "    result_df = highest_salary_df[['name_department', 'name_employee', 'salary']]\n",
        "\n",
        "    # Rename the columns as specified\n",
        "    result_df.columns = ['Department','Employee', 'Salary']\n",
        "\n",
        "    return result_df"
      ]
    }
  ]
}